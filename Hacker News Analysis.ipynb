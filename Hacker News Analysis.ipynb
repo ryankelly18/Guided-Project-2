{
 "cells": [
  {
   "cell_type": "markdown",
   "metadata": {},
   "source": [
    "#  Hacking Hacker News - Post / Comments Frequency Analysis"
   ]
  },
  {
   "cell_type": "markdown",
   "metadata": {},
   "source": [
    "*If you've ever wanted to get your post on Hacker News to the front page, you've probably wondered what type of posts attract the most interaction, or what time of the day is user interaction at its peak? These questions are exactly what this analysis is looking to answer.*\n",
    "\n",
    "This dataset contains information from 300,000 posts over a period of 12 months from September 2015 to 2016. \n",
    "\n",
    "After analyzing post's user interaction by the hour, I've found that an 'Ask' post submitted at 2:00pm Central Standard Time will most likely recieve more comments/user interaction than any other type or time of post.\n",
    "\n",
    "## Exploring the Data"
   ]
  },
  {
   "cell_type": "code",
   "execution_count": 68,
   "metadata": {
    "scrolled": true
   },
   "outputs": [
    {
     "name": "stdout",
     "output_type": "stream",
     "text": [
      "['id', 'title', 'url', 'num_points', 'num_comments', 'author', 'created_at']\n",
      "\n",
      "\n",
      "[['12579008', 'You have two days to comment if you want stem cells to be classified as your own', 'http://www.regulations.gov/document?D=FDA-2015-D-3719-0018', '1', '0', 'altstar', '9/26/2016 3:26'], ['12579005', 'SQLAR  the SQLite Archiver', 'https://www.sqlite.org/sqlar/doc/trunk/README.md', '1', '0', 'blacksqr', '9/26/2016 3:24'], ['12578997', 'What if we just printed a flatscreen television on the side of our boxes?', 'https://medium.com/vanmoof/our-secrets-out-f21c1f03fdc8#.ietxmez43', '1', '0', 'pavel_lishin', '9/26/2016 3:19']]\n",
      "293119\n"
     ]
    }
   ],
   "source": [
    "from csv import reader\n",
    "import datetime as dt   ## needed for time frequency analysis later\n",
    "opened_file = open(\"HN_posts_year_to_Sep_26_2016.csv\", encoding='utf8')\n",
    "read_file = reader(opened_file)\n",
    "hn = list(read_file)\n",
    "headers = hn[0]\n",
    "hn = hn[1:]\n",
    "\n",
    "print(headers)\n",
    "print('\\n')\n",
    "print(hn[:3])\n",
    "print(len(hn))"
   ]
  },
  {
   "cell_type": "markdown",
   "metadata": {},
   "source": [
    "The most interesting variables in this dataset for this analysis are 'num_points', 'num_comments', and 'created_at'. \n",
    "\n",
    "Before we can get to using these variables, let's separate posts by their respective categroy via parsing their titles."
   ]
  },
  {
   "cell_type": "code",
   "execution_count": 19,
   "metadata": {},
   "outputs": [
    {
     "name": "stdout",
     "output_type": "stream",
     "text": [
      "Number of Ask Posts:  9139\n",
      "Number of Show Posts:  10158\n",
      "Number of Other Posts:  273822\n"
     ]
    }
   ],
   "source": [
    "ask_posts = []\n",
    "show_posts = []\n",
    "other_posts = []\n",
    "\n",
    "for i in hn:\n",
    "    title = i[1]\n",
    "    title = title.lower()\n",
    "    if title.startswith('ask hn'): ## ask posts title\n",
    "        ask_posts.append(i)\n",
    "    elif title.startswith('show hn'): ## show posts title\n",
    "        show_posts.append(i)\n",
    "    else:\n",
    "        other_posts.append(i)\n",
    "\n",
    "print(\"Number of Ask Posts: \",len(ask_posts))\n",
    "print(\"Number of Show Posts: \",len(show_posts))\n",
    "print(\"Number of Other Posts: \",len(other_posts))"
   ]
  },
  {
   "cell_type": "markdown",
   "metadata": {},
   "source": [
    "For the purpose of this analysis, we'll be looking only at Ask/Show posts, since they are the most user-centric. The other posts consist mostly of news articles and job postings rather than user generated content.\n",
    "\n",
    "## Frequency Analysis of Comments Per Category"
   ]
  },
  {
   "cell_type": "code",
   "execution_count": 18,
   "metadata": {},
   "outputs": [
    {
     "name": "stdout",
     "output_type": "stream",
     "text": [
      "Average number of Ask Post comments:  10.393478498741656\n",
      "Average number of Show Post comments:  4.886099625910612\n"
     ]
    }
   ],
   "source": [
    "total_ask_comments = 0 ## calculate total ask comments\n",
    "for i in ask_posts:\n",
    "    num_comments = int(i[4])\n",
    "    total_ask_comments += num_comments\n",
    "\n",
    "avg_ask_comments = total_ask_comments / len(ask_posts)\n",
    "print(\"Average number of Ask Post comments: \", avg_ask_comments)\n",
    "\n",
    "total_show_comments = 0 ## calculate total show comments\n",
    "for i in show_posts:\n",
    "    num_comments = int(i[4])\n",
    "    total_show_comments += num_comments\n",
    "\n",
    "avg_show_comments = total_show_comments / len(show_posts)\n",
    "print(\"Average number of Show Post comments: \", avg_show_comments)"
   ]
  },
  {
   "cell_type": "markdown",
   "metadata": {},
   "source": [
    "Ask posts have more than twice the amount of comments as show posts on average. Since the purpose of ask posts is to recieve feedback, it makes sense for these posts to have more comments. \n",
    "\n",
    "This is a staggering difference in interaction, so we'll focus our remaining analysis just on ask posts. \n",
    "\n",
    "## Frequency Analysis of 'Ask' Posts by Hour\n",
    "\n",
    "In order to separate posts by the hour they were posted, we must convert the created_at data into a datetime object and add perform a frequency analysis."
   ]
  },
  {
   "cell_type": "code",
   "execution_count": 65,
   "metadata": {},
   "outputs": [
    {
     "name": "stdout",
     "output_type": "stream",
     "text": [
      "Top 5 Hours for Ask Posts Comments\n",
      "\n",
      "\n",
      "15:00: 28.68 average comments per post\n",
      "13:00: 16.32 average comments per post\n",
      "12:00: 12.38 average comments per post\n",
      "02:00: 11.14 average comments per post\n",
      "10:00: 10.68 average comments per post\n"
     ]
    }
   ],
   "source": [
    "result_list = []\n",
    "for i in ask_posts:\n",
    "    created_at = i[6] ## time is still a string at this point\n",
    "    num_comments = int(i[4])\n",
    "    info = [created_at, num_comments]\n",
    "    result_list.append(info)\n",
    "    \n",
    "counts_by_hour = {} ## number of posts created during each hour\n",
    "comments_by_hour = {}\n",
    "for i in result_list:\n",
    "    time = i[0]\n",
    "    time_object = dt.datetime.strptime(time, \"%m/%d/%Y %H:%M\")\n",
    "    hour = dt.datetime.strftime(time_object, \"%H\")\n",
    "    comments = i[1]\n",
    "    if hour not in counts_by_hour:\n",
    "        counts_by_hour[hour] = 1\n",
    "        comments_by_hour[hour] = comments\n",
    "    else:\n",
    "        counts_by_hour[hour] += 1\n",
    "        comments_by_hour[hour] += comments\n",
    "\n",
    "# With the times counted, now lets print out the information in a clean format\n",
    "\n",
    "avg_by_hour = []\n",
    "for i in counts_by_hour:\n",
    "    avg_by_hour.append([i, comments_by_hour[i]/counts_by_hour[i]])\n",
    "    \n",
    "swap_avg_by_hour = []\n",
    "for i in avg_by_hour:\n",
    "    swap_avg_by_hour.append([i[1], i[0]])\n",
    "##print(swap_avg_by_hour)\n",
    "sorted_swap = sorted(swap_avg_by_hour, reverse = True)\n",
    "print(\"Top 5 Hours for Ask Posts Comments\")\n",
    "print('\\n')\n",
    "new_output = \"{0}: {1:.2f} average comments per post\"\n",
    "for entry in sorted_swap[:5]:\n",
    "    hour = dt.datetime.strptime(entry[1],'%H')\n",
    "    hour = dt.datetime.strftime(hour, '%H:%M')\n",
    "    comments = float(entry[0])\n",
    "    print(new_output.format(hour, comments))"
   ]
  },
  {
   "cell_type": "markdown",
   "metadata": {},
   "source": [
    "It seems that 2:00pm Central is the most effective hour of the day to make an Ask post (this dataset uses United States Eastern Time)\n",
    "\n",
    "Behind 2:00pm is 12:00pm, which is reports almost half as much interaction as 2:00pm."
   ]
  },
  {
   "cell_type": "markdown",
   "metadata": {},
   "source": [
    "## Conclusion\n",
    "\n",
    "On Hacker News, the most popular user-centric posts are 'Ask' posts. The 'peak' time of day to make an ask post is 2:00pm US Central Time."
   ]
  }
 ],
 "metadata": {
  "kernelspec": {
   "display_name": "Python 3",
   "language": "python",
   "name": "python3"
  },
  "language_info": {
   "codemirror_mode": {
    "name": "ipython",
    "version": 3
   },
   "file_extension": ".py",
   "mimetype": "text/x-python",
   "name": "python",
   "nbconvert_exporter": "python",
   "pygments_lexer": "ipython3",
   "version": "3.7.4"
  }
 },
 "nbformat": 4,
 "nbformat_minor": 2
}
